{
 "cells": [
  {
   "cell_type": "markdown",
   "id": "1be402da-a55f-4d53-aa0b-d9928c0e1ac4",
   "metadata": {},
   "source": [
    "# Homework 1 \n",
    "\n",
    "### Instructions:\n",
    "Run each block to constuct the circuit. In block 3, uncomment the final 3 lines to simulate the circuit. When you are done, attach a pdf of the completed notebook (with the circuit diagrams and histogram) to your homework submission."
   ]
  },
  {
   "cell_type": "code",
   "execution_count": null,
   "id": "ba29acb4-51ad-4bba-9d20-03b812b5ddb4",
   "metadata": {},
   "outputs": [],
   "source": [
    "# Setup for quiskit\n",
    "\n",
    "import qiskit\n",
    "from qiskit import *\n",
    "import numpy as np\n",
    "from qiskit import QuantumCircuit, transpile, assemble, Aer, IBMQ\n",
    "from qiskit.visualization import plot_histogram, plot_bloch_multivector\n",
    "import matplotlib"
   ]
  },
  {
   "cell_type": "markdown",
   "id": "4985f8d7-8081-4a94-bbd2-d30265495215",
   "metadata": {},
   "source": [
    "In this block you will initialize the registers, create the a circuit with hadamard and CNOT gates, and print out the circuit."
   ]
  },
  {
   "cell_type": "code",
   "execution_count": null,
   "id": "60fab34c-8482-4f1f-b1d6-4f6bdf7c8251",
   "metadata": {
    "tags": []
   },
   "outputs": [],
   "source": [
    "n=2 # number of qubits\n",
    "\n",
    "q=QuantumRegister(2,\"q\") # opens two quantum registers\n",
    "c=ClassicalRegister(2,\"c\") # opens two classical registers\n",
    "\n",
    "circuit=QuantumCircuit(q,c) # initializes the circuit\n",
    "\n",
    "circuit.h(q[0]) # hadamard on the first qubit\n",
    "circuit.cx(q[0],q[1]) # CNOT from the first qubit to the second\n",
    "\n",
    "circuit.draw(output=\"mpl\") # output the circuit diagram\n"
   ]
  },
  {
   "cell_type": "markdown",
   "id": "e697dee8-a278-4215-9d3a-a1e0f4ec94f6",
   "metadata": {},
   "source": [
    "In this block you will measure the qubits and run a simulation of the circuit."
   ]
  },
  {
   "cell_type": "code",
   "execution_count": null,
   "id": "f23b088a-59bd-40ec-9de0-3bd978ae7453",
   "metadata": {},
   "outputs": [],
   "source": [
    "n=2\n",
    "\n",
    "q=QuantumRegister(2,\"q\")\n",
    "c=ClassicalRegister(2,\"c\")\n",
    "\n",
    "circuit=QuantumCircuit(q,c)\n",
    "\n",
    "circuit.h(q[0])\n",
    "circuit.cx(q[0],q[1])\n",
    "\n",
    "# above is the same as block 2\n",
    "\n",
    "circuit.measure(q[0],c[0]) # measure first qubit and store in the first classical register\n",
    "circuit.measure(q[1],c[1]) # measure second qubit and store in the second classical register\n",
    "\n",
    "backend= Aer.get_backend('qasm_simulator') # initialize simulator\n",
    "shots=10000 # number of trials\n",
    "\n",
    "circuit.draw(output=\"mpl\") # draw circuit\n",
    "\n",
    "### UNCOMENT THE LINES BELOW ###\n",
    "\n",
    "#result=execute(circuit, backend=backend, shots=shots).result() # run simulation\n",
    "#counts=result.get_counts() \n",
    "#plot_histogram(counts) # plot histogram of results"
   ]
  }
 ],
 "metadata": {
  "kernelspec": {
   "display_name": "Python 3 (ipykernel)",
   "language": "python",
   "name": "python3"
  },
  "language_info": {
   "codemirror_mode": {
    "name": "ipython",
    "version": 3
   },
   "file_extension": ".py",
   "mimetype": "text/x-python",
   "name": "python",
   "nbconvert_exporter": "python",
   "pygments_lexer": "ipython3",
   "version": "3.10.8"
  }
 },
 "nbformat": 4,
 "nbformat_minor": 5
}
