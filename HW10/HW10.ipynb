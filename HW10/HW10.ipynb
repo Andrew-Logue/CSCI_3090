{
 "cells": [
  {
   "cell_type": "markdown",
   "id": "c3253e40-52e5-4be7-a2ef-4266412d4452",
   "metadata": {},
   "source": [
    "# HW 10\n",
    "Andrew Logue"
   ]
  },
  {
   "cell_type": "markdown",
   "id": "054e2aa5-4f4e-4306-84bc-2c426957ea08",
   "metadata": {},
   "source": [
    "# Problem 1: QFT Qiskit circuit example (40 points)"
   ]
  },
  {
   "cell_type": "code",
   "execution_count": null,
   "id": "1f1ccb7e-6c26-4dae-8c65-11688ea5a73e",
   "metadata": {},
   "outputs": [],
   "source": []
  }
 ],
 "metadata": {
  "kernelspec": {
   "display_name": "Python 3 (ipykernel)",
   "language": "python",
   "name": "python3"
  },
  "language_info": {
   "codemirror_mode": {
    "name": "ipython",
    "version": 3
   },
   "file_extension": ".py",
   "mimetype": "text/x-python",
   "name": "python",
   "nbconvert_exporter": "python",
   "pygments_lexer": "ipython3",
   "version": "3.10.8"
  }
 },
 "nbformat": 4,
 "nbformat_minor": 5
}
