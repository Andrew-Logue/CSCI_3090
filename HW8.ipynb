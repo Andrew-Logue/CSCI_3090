{
 "cells": [
  {
   "cell_type": "markdown",
   "id": "3be463f7-14fc-4cf7-861a-de46f8d22b96",
   "metadata": {},
   "source": [
    "## Implementing Simple Algorithms\n",
    "\n",
    "Andrew Logue"
   ]
  },
  {
   "cell_type": "code",
   "execution_count": 7,
   "id": "478b126e-b920-4db9-aaec-bc17ed658bf2",
   "metadata": {},
   "outputs": [
    {
     "name": "stdout",
     "output_type": "stream",
     "text": [
      "19 / 9 = 2 remainder 1\n"
     ]
    }
   ],
   "source": [
    "# Division by subtraction\n",
    "\n",
    "def divide_by_subtraction(N, m):\n",
    "    q = 0\n",
    "    while N > m:\n",
    "        N = N - m\n",
    "        q += 1\n",
    "    return q, N\n",
    "\n",
    "# test\n",
    "N = 19\n",
    "m = 9\n",
    "\n",
    "quotient, remainder = divide_by_subtraction(N, m)\n",
    "print(f\"{N} / {m} = {quotient} remainder {remainder}\")"
   ]
  },
  {
   "cell_type": "code",
   "execution_count": 12,
   "id": "2641a4a0-ee15-44f0-97f5-663d1e035efd",
   "metadata": {},
   "outputs": [
    {
     "name": "stdout",
     "output_type": "stream",
     "text": [
      "The GCD of 362 and 94 is 2\n"
     ]
    }
   ],
   "source": [
    "# Euclid’s algorithm\n",
    "\n",
    "def GCD(a, b):\n",
    "    while b:\n",
    "        a, b = b, a % b\n",
    "    return a\n",
    "    \n",
    "\n",
    "# test\n",
    "a = 362\n",
    "b = 94\n",
    "\n",
    "print(f\"The GCD of {a} and {b} is {GCD(a, b)}\")"
   ]
  },
  {
   "cell_type": "code",
   "execution_count": 8,
   "id": "d95ccaf9-c94d-4e52-b6b8-6dee205f4682",
   "metadata": {},
   "outputs": [
    {
     "ename": "KeyboardInterrupt",
     "evalue": "",
     "output_type": "error",
     "traceback": [
      "\u001b[0;31m---------------------------------------------------------------------------\u001b[0m",
      "\u001b[0;31mKeyboardInterrupt\u001b[0m                         Traceback (most recent call last)",
      "Cell \u001b[0;32mIn[8], line 13\u001b[0m\n\u001b[1;32m     10\u001b[0m     \u001b[38;5;28;01mreturn\u001b[39;00m periods\n\u001b[1;32m     12\u001b[0m modulo \u001b[38;5;241m=\u001b[39m \u001b[38;5;241m21\u001b[39m\n\u001b[0;32m---> 13\u001b[0m periods \u001b[38;5;241m=\u001b[39m \u001b[43mfind_periods\u001b[49m\u001b[43m(\u001b[49m\u001b[43mmodulo\u001b[49m\u001b[43m)\u001b[49m\n\u001b[1;32m     14\u001b[0m nonzero_periods \u001b[38;5;241m=\u001b[39m {a: period \u001b[38;5;28;01mfor\u001b[39;00m a, period \u001b[38;5;129;01min\u001b[39;00m periods\u001b[38;5;241m.\u001b[39mitems() \u001b[38;5;28;01mif\u001b[39;00m period \u001b[38;5;241m>\u001b[39m \u001b[38;5;241m1\u001b[39m}\n\u001b[1;32m     16\u001b[0m \u001b[38;5;28mprint\u001b[39m(\u001b[38;5;124m\"\u001b[39m\u001b[38;5;124mNumbers with nonzero periods and their periods:\u001b[39m\u001b[38;5;124m\"\u001b[39m)\n",
      "Cell \u001b[0;32mIn[8], line 6\u001b[0m, in \u001b[0;36mfind_periods\u001b[0;34m(modulo)\u001b[0m\n\u001b[1;32m      4\u001b[0m period \u001b[38;5;241m=\u001b[39m \u001b[38;5;241m1\u001b[39m\n\u001b[1;32m      5\u001b[0m result \u001b[38;5;241m=\u001b[39m a\n\u001b[0;32m----> 6\u001b[0m \u001b[38;5;28;01mwhile\u001b[39;00m result \u001b[38;5;241m!=\u001b[39m \u001b[38;5;241m1\u001b[39m:\n\u001b[1;32m      7\u001b[0m     result \u001b[38;5;241m=\u001b[39m (result \u001b[38;5;241m*\u001b[39m a) \u001b[38;5;241m%\u001b[39m modulo\n\u001b[1;32m      8\u001b[0m     period \u001b[38;5;241m+\u001b[39m\u001b[38;5;241m=\u001b[39m \u001b[38;5;241m1\u001b[39m\n",
      "\u001b[0;31mKeyboardInterrupt\u001b[0m: "
     ]
    }
   ],
   "source": [
    "def find_periods(modulo):\n",
    "    periods = {}\n",
    "    for a in range(1, modulo):\n",
    "        period = 1\n",
    "        result = a\n",
    "        while result != 1:\n",
    "            result = (result * a) % modulo\n",
    "            period += 1\n",
    "        periods[a] = period\n",
    "    return periods\n",
    "\n",
    "modulo = 21\n",
    "periods = find_periods(modulo)\n",
    "nonzero_periods = {a: period for a, period in periods.items() if period > 1}\n",
    "\n",
    "print(\"Numbers with nonzero periods and their periods:\")\n",
    "for a, period in nonzero_periods.items():\n",
    "    print(f\"a = {a}, period = {period}\")\n"
   ]
  },
  {
   "cell_type": "code",
   "execution_count": 14,
   "id": "5d711273-c942-457b-b16f-c97d5c882678",
   "metadata": {},
   "outputs": [
    {
     "data": {
      "text/plain": [
       "19"
      ]
     },
     "execution_count": 14,
     "metadata": {},
     "output_type": "execute_result"
    }
   ],
   "source": [
    "(98765432123456789) % 35"
   ]
  },
  {
   "cell_type": "code",
   "execution_count": null,
   "id": "c3fb5aaf-189f-4e66-a957-071cdbc52034",
   "metadata": {},
   "outputs": [],
   "source": []
  }
 ],
 "metadata": {
  "kernelspec": {
   "display_name": "Python 3 (ipykernel)",
   "language": "python",
   "name": "python3"
  },
  "language_info": {
   "codemirror_mode": {
    "name": "ipython",
    "version": 3
   },
   "file_extension": ".py",
   "mimetype": "text/x-python",
   "name": "python",
   "nbconvert_exporter": "python",
   "pygments_lexer": "ipython3",
   "version": "3.10.8"
  }
 },
 "nbformat": 4,
 "nbformat_minor": 5
}
