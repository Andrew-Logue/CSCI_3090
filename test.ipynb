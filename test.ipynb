{
 "cells": [
  {
   "cell_type": "code",
   "execution_count": 4,
   "id": "2bc7cbf4-22f2-44a5-8f16-11cb1469bf9c",
   "metadata": {},
   "outputs": [
    {
     "name": "stdout",
     "output_type": "stream",
     "text": [
      "Expected total number of trials for n = 2: 5.0\n",
      "Expected total number of trials for n = 10: 1025.0009775171065\n",
      "Expected total number of trials for n = 100: 1.2676506002282294e+30\n"
     ]
    }
   ],
   "source": [
    "import numpy as np\n",
    "\n",
    "# Function to calculate k given m\n",
    "def calculate_k(m):\n",
    "    # For simplicity, let's assume k = m\n",
    "    return m\n",
    "\n",
    "# Function to calculate the expected total number of trials\n",
    "def calculate_expected_trials(n):\n",
    "    total_trials = 0\n",
    "    for m in range(n):\n",
    "        k = calculate_k(m)\n",
    "        total_trials += 2**n / 2**(n*k)  # Ensure k is not zero\n",
    "    return total_trials\n",
    "\n",
    "# Calculate expected total number of trials for n = 2\n",
    "n_2 = 2\n",
    "expected_trials_n_2 = calculate_expected_trials(n_2)\n",
    "print(\"Expected total number of trials for n = 2:\", expected_trials_n_2)\n",
    "\n",
    "# Calculate expected total number of trials for n = 10\n",
    "n_10 = 10\n",
    "expected_trials_n_10 = calculate_expected_trials(n_10)\n",
    "print(\"Expected total number of trials for n = 10:\", expected_trials_n_10)\n",
    "\n",
    "# Calculate expected total number of trials for n = 100\n",
    "n_100 = 100\n",
    "expected_trials_n_100 = calculate_expected_trials(n_100)\n",
    "print(\"Expected total number of trials for n = 100:\", expected_trials_n_100)"
   ]
  },
  {
   "cell_type": "code",
   "execution_count": 3,
   "id": "b1711bec-e5f0-4fb3-aa2e-a908e5f8c396",
   "metadata": {},
   "outputs": [
    {
     "data": {
      "text/plain": [
       "118"
      ]
     },
     "execution_count": 3,
     "metadata": {},
     "output_type": "execute_result"
    }
   ],
   "source": [
    "16**(79)%391\n",
    "\n"
   ]
  },
  {
   "cell_type": "code",
   "execution_count": 4,
   "id": "f67ae896-32bb-4837-9120-c0045b2b3ae8",
   "metadata": {},
   "outputs": [
    {
     "data": {
      "text/plain": [
       "101"
      ]
     },
     "execution_count": 4,
     "metadata": {},
     "output_type": "execute_result"
    }
   ],
   "source": [
    "118**(79)%391"
   ]
  },
  {
   "cell_type": "code",
   "execution_count": 5,
   "id": "55077f2f-16d8-4236-8d73-91c19a56dfc5",
   "metadata": {},
   "outputs": [
    {
     "data": {
      "text/plain": [
       "288"
      ]
     },
     "execution_count": 5,
     "metadata": {},
     "output_type": "execute_result"
    }
   ],
   "source": [
    "101**(79)%391"
   ]
  },
  {
   "cell_type": "code",
   "execution_count": 6,
   "id": "9826a17f-0dd6-4cbf-a9c2-7a711c29149d",
   "metadata": {},
   "outputs": [
    {
     "data": {
      "text/plain": [
       "305"
      ]
     },
     "execution_count": 6,
     "metadata": {},
     "output_type": "execute_result"
    }
   ],
   "source": [
    "288**(79)%391"
   ]
  },
  {
   "cell_type": "code",
   "execution_count": 7,
   "id": "28a4d603-5f8d-43b1-bd1b-8a599a3f3998",
   "metadata": {},
   "outputs": [
    {
     "data": {
      "text/plain": [
       "220"
      ]
     },
     "execution_count": 7,
     "metadata": {},
     "output_type": "execute_result"
    }
   ],
   "source": [
    "305**(79)%391"
   ]
  },
  {
   "cell_type": "code",
   "execution_count": 8,
   "id": "c47acb3c-536a-4770-a790-40ef001fbb47",
   "metadata": {},
   "outputs": [
    {
     "data": {
      "text/plain": [
       "169"
      ]
     },
     "execution_count": 8,
     "metadata": {},
     "output_type": "execute_result"
    }
   ],
   "source": [
    "220**(79)%391"
   ]
  },
  {
   "cell_type": "code",
   "execution_count": 9,
   "id": "acf4fb1c-b524-4bbb-9c07-f6bbeada6781",
   "metadata": {},
   "outputs": [
    {
     "data": {
      "text/plain": [
       "271"
      ]
     },
     "execution_count": 9,
     "metadata": {},
     "output_type": "execute_result"
    }
   ],
   "source": [
    "169**(79)%391"
   ]
  },
  {
   "cell_type": "code",
   "execution_count": 10,
   "id": "b8b0de8d-0979-413e-9efa-6c43b4c9929e",
   "metadata": {},
   "outputs": [
    {
     "data": {
      "text/plain": [
       "186"
      ]
     },
     "execution_count": 10,
     "metadata": {},
     "output_type": "execute_result"
    }
   ],
   "source": [
    "271**(79)%391"
   ]
  },
  {
   "cell_type": "code",
   "execution_count": 11,
   "id": "3936571d-1515-4d38-b3eb-d1d5c8d9a222",
   "metadata": {},
   "outputs": [
    {
     "data": {
      "text/plain": [
       "50"
      ]
     },
     "execution_count": 11,
     "metadata": {},
     "output_type": "execute_result"
    }
   ],
   "source": [
    "186**(79)%391"
   ]
  },
  {
   "cell_type": "code",
   "execution_count": 12,
   "id": "27b0254c-7bba-400e-9665-c604a5aa466f",
   "metadata": {},
   "outputs": [
    {
     "data": {
      "text/plain": [
       "16"
      ]
     },
     "execution_count": 12,
     "metadata": {},
     "output_type": "execute_result"
    }
   ],
   "source": [
    "50**(79)%391"
   ]
  },
  {
   "cell_type": "code",
   "execution_count": 13,
   "id": "73ab59d8-4fe3-4587-8e33-99211f7a76dd",
   "metadata": {},
   "outputs": [
    {
     "data": {
      "text/plain": [
       "79"
      ]
     },
     "execution_count": 13,
     "metadata": {},
     "output_type": "execute_result"
    }
   ],
   "source": [
    "79**(351)%352\n"
   ]
  },
  {
   "cell_type": "code",
   "execution_count": 14,
   "id": "b4087192-9b15-48a4-80d9-84966eb1f16c",
   "metadata": {},
   "outputs": [
    {
     "data": {
      "text/plain": [
       "0.012658227848101266"
      ]
     },
     "execution_count": 14,
     "metadata": {},
     "output_type": "execute_result"
    }
   ],
   "source": [
    "(1/79)%352\n"
   ]
  },
  {
   "cell_type": "code",
   "execution_count": 15,
   "id": "6bbe8b3e-aae3-49bd-a6ac-e5b78228c7a1",
   "metadata": {},
   "outputs": [
    {
     "data": {
      "text/plain": [
       "99"
      ]
     },
     "execution_count": 15,
     "metadata": {},
     "output_type": "execute_result"
    }
   ],
   "source": [
    "79**(351)%391\n"
   ]
  },
  {
   "cell_type": "code",
   "execution_count": 16,
   "id": "c08e65b4-2213-4899-aecf-5545b8813b1a",
   "metadata": {},
   "outputs": [
    {
     "data": {
      "text/plain": [
       "79"
      ]
     },
     "execution_count": 16,
     "metadata": {},
     "output_type": "execute_result"
    }
   ],
   "source": [
    "99**(351)%391"
   ]
  },
  {
   "cell_type": "code",
   "execution_count": 20,
   "id": "968eddd3-d63f-4890-80b0-469fa85af19a",
   "metadata": {},
   "outputs": [
    {
     "name": "stdout",
     "output_type": "stream",
     "text": [
      "N value: 391 which is (17)*(23)\n",
      "PHI value: 352 which is (17-1)*(23-1)\n",
      "E value: 79\n",
      "Encrypted message: 101\n",
      "Decrypted message: 16\n",
      "Public key: (391,79)\n",
      "Private key: (391,201)\n"
     ]
    }
   ],
   "source": [
    "import random\n",
    "\n",
    "class RSA:\n",
    "    def __init__(self):\n",
    "        self.Pvalue = 17\n",
    "        self.Qvalue = 23\n",
    "        self.Nvalue = 391\n",
    "        self.PHIvalue = 352\n",
    "        self.Evalue = 79\n",
    "        self.message = \"16\"\n",
    "        self.encrypted = None\n",
    "        self.Dvalue = None\n",
    "        self.decrypted = None\n",
    "        self.tbPublic = None\n",
    "        self.tbPrivate = None\n",
    "\n",
    "    def rsa(self):\n",
    "        p, q = 0, 0\n",
    "        if self.Pvalue is None:\n",
    "            p = self.get_prime()\n",
    "            self.Pvalue = str(p)\n",
    "        else:\n",
    "            p = int(self.Pvalue)\n",
    "\n",
    "        if self.Qvalue is None:\n",
    "            q = self.get_prime()\n",
    "            self.Qvalue = str(q)\n",
    "        else:\n",
    "            q = int(self.Qvalue)\n",
    "\n",
    "        n = p * q\n",
    "        PHI = (p - 1) * (q - 1)\n",
    "        ev = self.get_random_ev(PHI)\n",
    "\n",
    "        self.Nvalue = f\"{n} which is ({p})*({q})\"\n",
    "        self.PHIvalue = f\"{PHI} which is ({p}-1)*({q}-1)\"\n",
    "        # self.Evalue = str(ev)\n",
    "\n",
    "        m = int(self.message)\n",
    "        c = self.exp_calc(m, n, ev)\n",
    "        self.encrypted = str(c)\n",
    "\n",
    "        d = self.get_d(ev, PHI)\n",
    "        self.Dvalue = str(d)\n",
    "\n",
    "        mdec = self.exp_calc(c, n, d)\n",
    "        self.decrypted = str(mdec)\n",
    "\n",
    "        self.tbPublic = f\"({n},{self.Evalue})\"\n",
    "        self.tbPrivate = f\"({n},{self.Dvalue})\"\n",
    "\n",
    "    def get_ev(self, PHI):\n",
    "        e = 2\n",
    "        while self.get_common_denom(e, PHI) != 1:\n",
    "            e += 1\n",
    "        return e\n",
    "\n",
    "    def get_random_ev(self, PHI):\n",
    "        int_phi = int(PHI)\n",
    "        try:\n",
    "            random_phi = random.randint(2, int_phi)\n",
    "        except ValueError:\n",
    "            random_phi = random.randint(2, 2**15 - 1)\n",
    "        while self.get_common_denom(random_phi, PHI) != 1:\n",
    "            random_phi = random.randint(2, int_phi)\n",
    "        return random_phi\n",
    "\n",
    "    def get_common_denom(self, e, PHI):\n",
    "        if e > PHI:\n",
    "            while e % PHI != 0:\n",
    "                e, PHI = PHI, e % PHI\n",
    "            return PHI\n",
    "        else:\n",
    "            while PHI % e != 0:\n",
    "                e, PHI = PHI % e, e\n",
    "            return e\n",
    "\n",
    "    def get_d(self, e, PHI):\n",
    "        u = [1, 0, PHI]\n",
    "        v = [0, 1, e]\n",
    "\n",
    "        while v[2] != 0:\n",
    "            q = u[2] // v[2]\n",
    "            temp1 = u[0] - q * v[0]\n",
    "            temp2 = u[1] - q * v[1]\n",
    "            temp3 = u[2] - q * v[2]\n",
    "            u[0], u[1], u[2] = v[0], v[1], v[2]\n",
    "            v[0], v[1], v[2] = temp1, temp2, temp3\n",
    "        return u[1] + PHI if u[1] < 0 else u[1]\n",
    "\n",
    "    def exp_calc(self, c, n, d):\n",
    "        g = 1 if d % 2 == 0 else c\n",
    "        for i in range(1, d // 2 + 1):\n",
    "            f = (c * c) % n\n",
    "            g = (f * g) % n\n",
    "        return g\n",
    "\n",
    "    def get_prime(self):\n",
    "        primes = [\n",
    "            2, 3, 5, 7, 11, 13, 17, 19, 23, 29, 31, 37, 41, 43, 47, 53, 59, 61, 67, 71,\n",
    "            73, 79, 83, 89, 97, 101, 103, 107, 109, 113, 127, 137, 139, 149, 151, 157,\n",
    "            163, 167, 173, 179, 181, 191, 193, 197, 199, 211, 223, 227, 229, 233, 239,\n",
    "            241, 251, 257, 263, 269, 271, 277, 281, 283, 293, 307, 311, 313, 317, 331,\n",
    "            337, 347, 349, 353, 359, 367, 373, 379, 383, 389, 397\n",
    "        ]\n",
    "        return random.choice(primes)\n",
    "\n",
    "\n",
    "# Example usage:\n",
    "rsa_instance = RSA()\n",
    "rsa_instance.rsa()\n",
    "print(\"N value:\", rsa_instance.Nvalue)\n",
    "print(\"PHI value:\", rsa_instance.PHIvalue)\n",
    "print(\"E value:\", rsa_instance.Evalue)\n",
    "print(\"Encrypted message:\", rsa_instance.encrypted)\n",
    "print(\"Decrypted message:\", rsa_instance.decrypted)\n",
    "print(\"Public key:\", rsa_instance.tbPublic)\n",
    "print(\"Private key:\", rsa_instance.tbPrivate)\n"
   ]
  },
  {
   "cell_type": "code",
   "execution_count": 21,
   "id": "b3abcdd5-976c-4fc5-a177-9799bb323f47",
   "metadata": {},
   "outputs": [
    {
     "data": {
      "text/plain": [
       "298"
      ]
     },
     "execution_count": 21,
     "metadata": {},
     "output_type": "execute_result"
    }
   ],
   "source": [
    "321**(99)%391"
   ]
  },
  {
   "cell_type": "code",
   "execution_count": 22,
   "id": "612cf9e7-0c88-4d47-b57b-ad968105c230",
   "metadata": {},
   "outputs": [
    {
     "data": {
      "text/plain": [
       "321"
      ]
     },
     "execution_count": 22,
     "metadata": {},
     "output_type": "execute_result"
    }
   ],
   "source": [
    "298**(99)%391"
   ]
  },
  {
   "cell_type": "code",
   "execution_count": 23,
   "id": "ddae6981-fcdd-4b61-8559-c71ffd3bdb81",
   "metadata": {},
   "outputs": [
    {
     "data": {
      "text/plain": [
       "298"
      ]
     },
     "execution_count": 23,
     "metadata": {},
     "output_type": "execute_result"
    }
   ],
   "source": [
    "321**(99)%391"
   ]
  },
  {
   "cell_type": "code",
   "execution_count": 24,
   "id": "371b057b-192e-40ea-9cf4-96eec00ef8fd",
   "metadata": {},
   "outputs": [
    {
     "data": {
      "text/plain": [
       "188"
      ]
     },
     "execution_count": 24,
     "metadata": {},
     "output_type": "execute_result"
    }
   ],
   "source": [
    "16**(50)%391\n"
   ]
  },
  {
   "cell_type": "code",
   "execution_count": 25,
   "id": "4020835a-f058-4b2d-a346-5ab69ee1dbfc",
   "metadata": {},
   "outputs": [
    {
     "data": {
      "text/plain": [
       "324"
      ]
     },
     "execution_count": 25,
     "metadata": {},
     "output_type": "execute_result"
    }
   ],
   "source": [
    "188**(50)%391"
   ]
  },
  {
   "cell_type": "code",
   "execution_count": 26,
   "id": "cbe1a984-acda-47ac-bb3e-f42b75604bae",
   "metadata": {},
   "outputs": [
    {
     "data": {
      "text/plain": [
       "18"
      ]
     },
     "execution_count": 26,
     "metadata": {},
     "output_type": "execute_result"
    }
   ],
   "source": [
    "324**(50)%391"
   ]
  },
  {
   "cell_type": "code",
   "execution_count": 27,
   "id": "797402b4-8121-4a2b-aead-4e7fab39d953",
   "metadata": {},
   "outputs": [
    {
     "data": {
      "text/plain": [
       "307"
      ]
     },
     "execution_count": 27,
     "metadata": {},
     "output_type": "execute_result"
    }
   ],
   "source": [
    "18**(50)%391"
   ]
  },
  {
   "cell_type": "code",
   "execution_count": 28,
   "id": "da0a4f98-e4fb-4ac5-91e5-88aba7ff08f3",
   "metadata": {},
   "outputs": [
    {
     "data": {
      "text/plain": [
       "358"
      ]
     },
     "execution_count": 28,
     "metadata": {},
     "output_type": "execute_result"
    }
   ],
   "source": [
    "307**(50)%391"
   ]
  },
  {
   "cell_type": "code",
   "execution_count": 29,
   "id": "c62242ab-ef90-48b8-be67-cee5c7cde923",
   "metadata": {},
   "outputs": [
    {
     "data": {
      "text/plain": [
       "52"
      ]
     },
     "execution_count": 29,
     "metadata": {},
     "output_type": "execute_result"
    }
   ],
   "source": [
    "358**(50)%391"
   ]
  },
  {
   "cell_type": "code",
   "execution_count": 30,
   "id": "bd1594a7-7498-4eb6-913f-9c8a5cf39109",
   "metadata": {},
   "outputs": [
    {
     "data": {
      "text/plain": [
       "35"
      ]
     },
     "execution_count": 30,
     "metadata": {},
     "output_type": "execute_result"
    }
   ],
   "source": [
    "52**(50)%391"
   ]
  },
  {
   "cell_type": "code",
   "execution_count": 31,
   "id": "885a760f-b3f5-4d4f-a12e-21e9de7f0337",
   "metadata": {},
   "outputs": [
    {
     "data": {
      "text/plain": [
       "239"
      ]
     },
     "execution_count": 31,
     "metadata": {},
     "output_type": "execute_result"
    }
   ],
   "source": [
    "35**(50)%391"
   ]
  },
  {
   "cell_type": "code",
   "execution_count": 33,
   "id": "60f3cd3b-b827-4d4f-a6b9-b0c9cb385ca2",
   "metadata": {},
   "outputs": [
    {
     "data": {
      "text/plain": [
       "256"
      ]
     },
     "execution_count": 33,
     "metadata": {},
     "output_type": "execute_result"
    }
   ],
   "source": [
    "239**(50)%391"
   ]
  },
  {
   "cell_type": "code",
   "execution_count": 34,
   "id": "0cfbec95-214e-4519-9110-fb92d7058335",
   "metadata": {},
   "outputs": [
    {
     "data": {
      "text/plain": [
       "154"
      ]
     },
     "execution_count": 34,
     "metadata": {},
     "output_type": "execute_result"
    }
   ],
   "source": [
    "256**(50)%391"
   ]
  },
  {
   "cell_type": "code",
   "execution_count": 35,
   "id": "1b789416-afbf-49a8-af6f-e7fc61525f76",
   "metadata": {},
   "outputs": [
    {
     "data": {
      "text/plain": [
       "188"
      ]
     },
     "execution_count": 35,
     "metadata": {},
     "output_type": "execute_result"
    }
   ],
   "source": [
    "154**(50)%391"
   ]
  },
  {
   "cell_type": "code",
   "execution_count": null,
   "id": "5aeba5c1-00e6-463c-aa27-0c1f0ed9561d",
   "metadata": {},
   "outputs": [],
   "source": []
  }
 ],
 "metadata": {
  "kernelspec": {
   "display_name": "Python 3 (ipykernel)",
   "language": "python",
   "name": "python3"
  },
  "language_info": {
   "codemirror_mode": {
    "name": "ipython",
    "version": 3
   },
   "file_extension": ".py",
   "mimetype": "text/x-python",
   "name": "python",
   "nbconvert_exporter": "python",
   "pygments_lexer": "ipython3",
   "version": "3.10.8"
  }
 },
 "nbformat": 4,
 "nbformat_minor": 5
}
